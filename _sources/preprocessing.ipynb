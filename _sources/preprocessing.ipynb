{
 "cells": [
  {
   "cell_type": "markdown",
   "id": "cf3f202b",
   "metadata": {},
   "source": [
    "# Preprocessing\n"
   ]
  },
  {
   "cell_type": "markdown",
   "id": "88785700",
   "metadata": {},
   "source": [
    "## Hapus outlier metode ABOD"
   ]
  },
  {
   "cell_type": "code",
   "execution_count": 4,
   "id": "9b5dbfff",
   "metadata": {},
   "outputs": [
    {
     "data": {
      "text/html": [],
      "text/plain": [
       "<IPython.core.display.HTML object>"
      ]
     },
     "metadata": {},
     "output_type": "display_data"
    },
    {
     "data": {
      "text/html": [],
      "text/plain": [
       "<IPython.core.display.HTML object>"
      ]
     },
     "metadata": {},
     "output_type": "display_data"
    },
    {
     "data": {
      "text/html": [],
      "text/plain": [
       "<IPython.core.display.HTML object>"
      ]
     },
     "metadata": {},
     "output_type": "display_data"
    },
    {
     "name": "stdout",
     "output_type": "stream",
     "text": [
      "+----+------+-----------------+----------------+-----------------+----------------+-------------+\n",
      "|    |   Id |   SepalLengthCm |   SepalWidthCm |   PetalLengthCm |   PetalWidthCm | Species     |\n",
      "+====+======+=================+================+=================+================+=============+\n",
      "|  0 |    1 |             5.1 |            3.5 |             1.4 |            0.2 | Iris-setosa |\n",
      "+----+------+-----------------+----------------+-----------------+----------------+-------------+\n",
      "|  1 |    2 |             4.9 |            3   |             1.4 |            0.2 | Iris-setosa |\n",
      "+----+------+-----------------+----------------+-----------------+----------------+-------------+\n",
      "|  2 |    3 |             4.7 |            3.2 |             1.3 |            0.2 | Iris-setosa |\n",
      "+----+------+-----------------+----------------+-----------------+----------------+-------------+\n",
      "|  3 |    4 |             4.6 |            3.1 |             1.5 |            0.2 | Iris-setosa |\n",
      "+----+------+-----------------+----------------+-----------------+----------------+-------------+\n",
      "|  4 |    5 |             5   |            3.6 |             1.4 |            0.2 | Iris-setosa |\n",
      "+----+------+-----------------+----------------+-----------------+----------------+-------------+\n",
      "|  5 |    6 |             5.4 |            3.9 |             1.7 |            0.4 | Iris-setosa |\n",
      "+----+------+-----------------+----------------+-----------------+----------------+-------------+\n",
      "|  6 |    7 |             4.6 |            3.4 |             1.4 |            0.3 | Iris-setosa |\n",
      "+----+------+-----------------+----------------+-----------------+----------------+-------------+\n",
      "|  7 |    8 |             5   |            3.4 |             1.5 |            0.2 | Iris-setosa |\n",
      "+----+------+-----------------+----------------+-----------------+----------------+-------------+\n",
      "|  8 |    9 |             4.4 |            2.9 |             1.4 |            0.2 | Iris-setosa |\n",
      "+----+------+-----------------+----------------+-----------------+----------------+-------------+\n",
      "|  9 |   10 |             4.9 |            3.1 |             1.5 |            0.1 | Iris-setosa |\n",
      "+----+------+-----------------+----------------+-----------------+----------------+-------------+\n",
      "\n",
      "Jumlah data asli: 150\n",
      "Jumlah data setelah buang outlier: 142\n"
     ]
    }
   ],
   "source": [
    "import pandas as pd\n",
    "from pycaret.anomaly import *\n",
    "from tabulate import tabulate\n",
    "\n",
    "# Hapus kolom target (class) kalau ada\n",
    "if \"class\" in df.columns:\n",
    "    target = df[\"class\"]   # simpan target dulu biar tidak hilang\n",
    "    df = df.drop(\"class\", axis=1)\n",
    "else:\n",
    "    target = None\n",
    "\n",
    "# === 2. Setup PyCaret ===\n",
    "s = setup(data=df, session_id=123, verbose=False)\n",
    "\n",
    "# === 3. Pilih model (misal LOF, bisa diganti 'abod' atau 'knn') ===\n",
    "model = create_model(\"abod\", fraction=0.05)\n",
    "\n",
    "# === 4. Assign hasil deteksi ===\n",
    "results = assign_model(model)\n",
    "\n",
    "# === 5. Hapus data outlier (Anomaly = 1) ===\n",
    "df_clean = results[results[\"Anomaly\"] == 0].drop(columns=[\"Anomaly\", \"Anomaly_Score\"])\n",
    "\n",
    "# Gabungkan lagi dengan class kalau ada\n",
    "if target is not None:\n",
    "    df_clean[\"class\"] = target.loc[df_clean.index]\n",
    "\n",
    "# === 6. Tampilkan hasil bersih ===\n",
    "print(tabulate(df_clean.head(10), headers=\"keys\", tablefmt=\"grid\"))\n",
    "print(f\"\\nJumlah data asli: {len(results)}\")\n",
    "print(f\"Jumlah data setelah buang outlier: {len(df_clean)}\")\n"
   ]
  },
  {
   "cell_type": "markdown",
   "id": "b6cc06d8",
   "metadata": {},
   "source": [
    "## Hapus outlier metode knn"
   ]
  },
  {
   "cell_type": "code",
   "execution_count": 3,
   "id": "217b128f",
   "metadata": {},
   "outputs": [
    {
     "data": {
      "text/html": [],
      "text/plain": [
       "<IPython.core.display.HTML object>"
      ]
     },
     "metadata": {},
     "output_type": "display_data"
    },
    {
     "data": {
      "text/html": [],
      "text/plain": [
       "<IPython.core.display.HTML object>"
      ]
     },
     "metadata": {},
     "output_type": "display_data"
    },
    {
     "data": {
      "text/html": [],
      "text/plain": [
       "<IPython.core.display.HTML object>"
      ]
     },
     "metadata": {},
     "output_type": "display_data"
    },
    {
     "name": "stdout",
     "output_type": "stream",
     "text": [
      "+----+------+-----------------+----------------+-----------------+----------------+-------------+\n",
      "|    |   Id |   SepalLengthCm |   SepalWidthCm |   PetalLengthCm |   PetalWidthCm | Species     |\n",
      "+====+======+=================+================+=================+================+=============+\n",
      "|  2 |    3 |             4.7 |            3.2 |             1.3 |            0.2 | Iris-setosa |\n",
      "+----+------+-----------------+----------------+-----------------+----------------+-------------+\n",
      "|  3 |    4 |             4.6 |            3.1 |             1.5 |            0.2 | Iris-setosa |\n",
      "+----+------+-----------------+----------------+-----------------+----------------+-------------+\n",
      "|  4 |    5 |             5   |            3.6 |             1.4 |            0.2 | Iris-setosa |\n",
      "+----+------+-----------------+----------------+-----------------+----------------+-------------+\n",
      "|  5 |    6 |             5.4 |            3.9 |             1.7 |            0.4 | Iris-setosa |\n",
      "+----+------+-----------------+----------------+-----------------+----------------+-------------+\n",
      "|  6 |    7 |             4.6 |            3.4 |             1.4 |            0.3 | Iris-setosa |\n",
      "+----+------+-----------------+----------------+-----------------+----------------+-------------+\n",
      "|  7 |    8 |             5   |            3.4 |             1.5 |            0.2 | Iris-setosa |\n",
      "+----+------+-----------------+----------------+-----------------+----------------+-------------+\n",
      "|  8 |    9 |             4.4 |            2.9 |             1.4 |            0.2 | Iris-setosa |\n",
      "+----+------+-----------------+----------------+-----------------+----------------+-------------+\n",
      "|  9 |   10 |             4.9 |            3.1 |             1.5 |            0.1 | Iris-setosa |\n",
      "+----+------+-----------------+----------------+-----------------+----------------+-------------+\n",
      "| 10 |   11 |             5.4 |            3.7 |             1.5 |            0.2 | Iris-setosa |\n",
      "+----+------+-----------------+----------------+-----------------+----------------+-------------+\n",
      "| 11 |   12 |             4.8 |            3.4 |             1.6 |            0.2 | Iris-setosa |\n",
      "+----+------+-----------------+----------------+-----------------+----------------+-------------+\n",
      "\n",
      "Jumlah data asli: 150\n",
      "Jumlah data setelah buang outlier: 142\n"
     ]
    }
   ],
   "source": [
    "import pandas as pd\n",
    "from pycaret.anomaly import *\n",
    "from tabulate import tabulate\n",
    "\n",
    "# Hapus kolom target (class) kalau ada\n",
    "if \"class\" in df.columns:\n",
    "    target = df[\"class\"]   # simpan target dulu biar tidak hilang\n",
    "    df = df.drop(\"class\", axis=1)\n",
    "else:\n",
    "    target = None\n",
    "\n",
    "# === 2. Setup PyCaret ===\n",
    "s = setup(data=df, session_id=123, verbose=False)\n",
    "\n",
    "# === 3. Pilih model (misal LOF, bisa diganti 'abod' atau 'knn') ===\n",
    "model = create_model(\"knn\", fraction=0.05)\n",
    "\n",
    "# === 4. Assign hasil deteksi ===\n",
    "results = assign_model(model)\n",
    "\n",
    "# === 5. Hapus data outlier (Anomaly = 1) ===\n",
    "df_clean = results[results[\"Anomaly\"] == 0].drop(columns=[\"Anomaly\", \"Anomaly_Score\"])\n",
    "\n",
    "# Gabungkan lagi dengan class kalau ada\n",
    "if target is not None:\n",
    "    df_clean[\"class\"] = target.loc[df_clean.index]\n",
    "\n",
    "# === 6. Tampilkan hasil bersih ===\n",
    "print(tabulate(df_clean.head(10), headers=\"keys\", tablefmt=\"grid\"))\n",
    "print(f\"\\nJumlah data asli: {len(results)}\")\n",
    "print(f\"Jumlah data setelah buang outlier: {len(df_clean)}\")\n"
   ]
  },
  {
   "cell_type": "markdown",
   "id": "08bd7ccf",
   "metadata": {},
   "source": [
    "## Hapus outlier metode lof"
   ]
  },
  {
   "cell_type": "code",
   "execution_count": 2,
   "id": "55815194",
   "metadata": {},
   "outputs": [
    {
     "data": {
      "text/html": [],
      "text/plain": [
       "<IPython.core.display.HTML object>"
      ]
     },
     "metadata": {},
     "output_type": "display_data"
    },
    {
     "data": {
      "text/html": [],
      "text/plain": [
       "<IPython.core.display.HTML object>"
      ]
     },
     "metadata": {},
     "output_type": "display_data"
    },
    {
     "data": {
      "text/html": [],
      "text/plain": [
       "<IPython.core.display.HTML object>"
      ]
     },
     "metadata": {},
     "output_type": "display_data"
    },
    {
     "name": "stdout",
     "output_type": "stream",
     "text": [
      "+----+------+-----------------+----------------+-----------------+----------------+-------------+\n",
      "|    |   Id |   SepalLengthCm |   SepalWidthCm |   PetalLengthCm |   PetalWidthCm | Species     |\n",
      "+====+======+=================+================+=================+================+=============+\n",
      "|  4 |    5 |             5   |            3.6 |             1.4 |            0.2 | Iris-setosa |\n",
      "+----+------+-----------------+----------------+-----------------+----------------+-------------+\n",
      "|  5 |    6 |             5.4 |            3.9 |             1.7 |            0.4 | Iris-setosa |\n",
      "+----+------+-----------------+----------------+-----------------+----------------+-------------+\n",
      "|  6 |    7 |             4.6 |            3.4 |             1.4 |            0.3 | Iris-setosa |\n",
      "+----+------+-----------------+----------------+-----------------+----------------+-------------+\n",
      "|  7 |    8 |             5   |            3.4 |             1.5 |            0.2 | Iris-setosa |\n",
      "+----+------+-----------------+----------------+-----------------+----------------+-------------+\n",
      "|  8 |    9 |             4.4 |            2.9 |             1.4 |            0.2 | Iris-setosa |\n",
      "+----+------+-----------------+----------------+-----------------+----------------+-------------+\n",
      "|  9 |   10 |             4.9 |            3.1 |             1.5 |            0.1 | Iris-setosa |\n",
      "+----+------+-----------------+----------------+-----------------+----------------+-------------+\n",
      "| 10 |   11 |             5.4 |            3.7 |             1.5 |            0.2 | Iris-setosa |\n",
      "+----+------+-----------------+----------------+-----------------+----------------+-------------+\n",
      "| 11 |   12 |             4.8 |            3.4 |             1.6 |            0.2 | Iris-setosa |\n",
      "+----+------+-----------------+----------------+-----------------+----------------+-------------+\n",
      "| 12 |   13 |             4.8 |            3   |             1.4 |            0.1 | Iris-setosa |\n",
      "+----+------+-----------------+----------------+-----------------+----------------+-------------+\n",
      "| 13 |   14 |             4.3 |            3   |             1.1 |            0.1 | Iris-setosa |\n",
      "+----+------+-----------------+----------------+-----------------+----------------+-------------+\n",
      "\n",
      "Jumlah data asli: 150\n",
      "Jumlah data setelah buang outlier: 142\n"
     ]
    }
   ],
   "source": [
    "import pandas as pd\n",
    "from pycaret.anomaly import *\n",
    "from tabulate import tabulate\n",
    "\n",
    "# Hapus kolom target (class) kalau ada\n",
    "if \"class\" in df.columns:\n",
    "    target = df[\"class\"]   # simpan target dulu biar tidak hilang\n",
    "    df = df.drop(\"class\", axis=1)\n",
    "else:\n",
    "    target = None\n",
    "\n",
    "# === 2. Setup PyCaret ===\n",
    "s = setup(data=df, session_id=123, verbose=False)\n",
    "\n",
    "# === 3. Pilih model (misal LOF, bisa diganti 'abod' atau 'knn') ===\n",
    "model = create_model(\"lof\", fraction=0.05)\n",
    "\n",
    "# === 4. Assign hasil deteksi ===\n",
    "results = assign_model(model)\n",
    "\n",
    "# === 5. Hapus data outlier (Anomaly = 1) ===\n",
    "df_clean = results[results[\"Anomaly\"] == 0].drop(columns=[\"Anomaly\", \"Anomaly_Score\"])\n",
    "\n",
    "# Gabungkan lagi dengan class kalau ada\n",
    "if target is not None:\n",
    "    df_clean[\"class\"] = target.loc[df_clean.index]\n",
    "\n",
    "# === 6. Tampilkan hasil bersih ===\n",
    "print(tabulate(df_clean.head(10), headers=\"keys\", tablefmt=\"grid\"))\n",
    "print(f\"\\nJumlah data asli: {len(results)}\")\n",
    "print(f\"Jumlah data setelah buang outlier: {len(df_clean)}\")\n"
   ]
  }
 ],
 "metadata": {
  "kernelspec": {
   "display_name": "Python 3",
   "language": "python",
   "name": "python3"
  },
  "language_info": {
   "codemirror_mode": {
    "name": "ipython",
    "version": 3
   },
   "file_extension": ".py",
   "mimetype": "text/x-python",
   "name": "python",
   "nbconvert_exporter": "python",
   "pygments_lexer": "ipython3",
   "version": "3.9.7"
  }
 },
 "nbformat": 4,
 "nbformat_minor": 5
}
