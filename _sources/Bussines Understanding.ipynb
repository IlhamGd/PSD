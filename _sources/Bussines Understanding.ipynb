{
 "cells": [
  {
   "cell_type": "markdown",
   "metadata": {
    "id": "Of9DwdgL546Q"
   },
   "source": [
    "# **Business Understanding** - Dataset Iris\n",
    "\n",
    "## Tujuan Bisnis\n",
    "Perusahaan florikultura ingin **mengklasifikasikan jenis bunga iris** \n",
    "berdasarkan ukuran kelopak (*petal*) dan sepal (*sepal*).  \n",
    "Tujuan utamanya:\n",
    "- Mempercepat proses identifikasi spesies\n",
    "- Mengurangi kesalahan manusia\n",
    "- Menyediakan data dasar untuk penelitian dan pengembangan varietas baru\n",
    "\n",
    "---\n",
    "\n",
    "## Permasalahan Bisnis\n",
    "- Bagaimana membedakan spesies iris (Setosa, Versicolor, Virginica) \n",
    "  hanya berdasarkan data panjang & lebar sepal serta petal?\n",
    "  \n",
    "---\n",
    "\n",
    "## Tujuan Analitik\n",
    "- Menganalisis karakteristik distribusi data sepal & petal\n",
    "- Menentukan fitur yang paling membedakan antar spesies\n",
    "- Membangun model klasifikasi yang dapat memprediksi spesies bunga iris\n",
    "\n",
    "---\n",
    "\n",
    "## Manfaat Bisnis\n",
    "- **Efisiensi**: Proses identifikasi bunga menjadi lebih cepat\n",
    "- **Akurasi**: Mengurangi kesalahan klasifikasi manual\n",
    "- **Skalabilitas**: Dapat diperluas ke dataset tanaman lain atau objek biologis lain\n"
   ]
  }
 ],
 "metadata": {
  "colab": {
   "authorship_tag": "ABX9TyOm0gixj3KgV4mEu8pG+6C7",
   "provenance": []
  },
  "kernelspec": {
   "display_name": "Python 3",
   "name": "python3"
  },
  "language_info": {
   "name": "python"
  }
 },
 "nbformat": 4,
 "nbformat_minor": 0
}
